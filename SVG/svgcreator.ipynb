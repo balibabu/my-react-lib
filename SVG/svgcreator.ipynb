{
 "cells": [
  {
   "cell_type": "code",
   "execution_count": 27,
   "metadata": {},
   "outputs": [],
   "source": [
    "filename=input('filename: ')\n",
    "path=input('path:\\n')\n",
    "\n",
    "\n",
    "from string import Template\n",
    "\n",
    "template_content = Template('''import React from 'react'\n",
    "export default function $name({ strokeWidth }) {\n",
    "    return (\n",
    "        <svg xmlns=\"http://www.w3.org/2000/svg\" fill=\"none\" viewBox=\"0 0 24 24\" strokeWidth={strokeWidth} stroke=\"currentColor\" width='100%' height='100%'>\n",
    "$path\n",
    "        </svg>\n",
    "    )\n",
    "}''')\n",
    "\n",
    "content = template_content.substitute(name=filename, path=path)\n",
    "\n",
    "with open(f'{filename}.jsx','w') as file:\n",
    "    file.write(content)"
   ]
  },
  {
   "cell_type": "code",
   "execution_count": null,
   "metadata": {},
   "outputs": [],
   "source": []
  }
 ],
 "metadata": {
  "kernelspec": {
   "display_name": "jupy",
   "language": "python",
   "name": "python3"
  },
  "language_info": {
   "codemirror_mode": {
    "name": "ipython",
    "version": 3
   },
   "file_extension": ".py",
   "mimetype": "text/x-python",
   "name": "python",
   "nbconvert_exporter": "python",
   "pygments_lexer": "ipython3",
   "version": "3.12.2"
  }
 },
 "nbformat": 4,
 "nbformat_minor": 2
}
